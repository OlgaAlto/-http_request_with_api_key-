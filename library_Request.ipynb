{
 "cells": [
  {
   "cell_type": "code",
   "execution_count": 55,
   "metadata": {},
   "outputs": [],
   "source": [
    "import requests"
   ]
  },
  {
   "cell_type": "code",
   "execution_count": 47,
   "metadata": {},
   "outputs": [
    {
     "data": {
      "text/plain": [
       "<Response [200]>"
      ]
     },
     "execution_count": 47,
     "metadata": {},
     "output_type": "execute_result"
    }
   ],
   "source": [
    "r = requests.get('http://api.openweathermap.org/data/2.5/find?q=Helsinki,FI&type=like&APPID=b0baffeb2a696b4882beff6b2211da44')\n",
    "r"
   ]
  },
  {
   "cell_type": "code",
   "execution_count": 48,
   "metadata": {},
   "outputs": [
    {
     "name": "stdout",
     "output_type": "stream",
     "text": [
      "city: ['Helsinki (FI)', 'Helsinki (FI)']\n",
      "city_id= 658225\n"
     ]
    }
   ],
   "source": [
    "import requests\n",
    "s_city = \"Helsinki,FI\"\n",
    "city_id = 0\n",
    "appid = \"b0baffeb2a696b4882beff6b2211da44\"\n",
    "try:\n",
    "    res = requests.get(\"http://api.openweathermap.org/data/2.5/find\",\n",
    "                 params={'q': s_city, 'type': 'like', 'units': 'metric', 'APPID': appid})\n",
    "    data = res.json()\n",
    "    cities = [\"{} ({})\".format(d['name'], d['sys']['country'])\n",
    "              for d in data['list']]\n",
    "    print(\"city:\", cities)\n",
    "    city_id = data['list'][0]['id']\n",
    "    print('city_id=', city_id)\n",
    "except Exception as e:\n",
    "    print(\"Exception (find):\", e)\n",
    "    pass\n"
   ]
  },
  {
   "cell_type": "code",
   "execution_count": 49,
   "metadata": {},
   "outputs": [
    {
     "name": "stdout",
     "output_type": "stream",
     "text": [
      "conditions: clear sky\n",
      "temp: 16.25\n",
      "temp_min: 15.56\n",
      "temp_max: 17.22\n"
     ]
    }
   ],
   "source": [
    "# Weather today\n",
    "try:\n",
    "    res = requests.get(\"http://api.openweathermap.org/data/2.5/weather\",\n",
    "                 params={'id': city_id, 'units': 'metric', 'lang': 'en', 'APPID': appid})\n",
    "    data = res.json()\n",
    "    print(\"conditions:\", data['weather'][0]['description'])\n",
    "    print(\"temp:\", data['main']['temp'])\n",
    "    print(\"temp_min:\", data['main']['temp_min'])\n",
    "    print(\"temp_max:\", data['main']['temp_max'])\n",
    "except Exception as e:\n",
    "    print(\"Exception (weather):\", e)\n",
    "    pass"
   ]
  },
  {
   "cell_type": "code",
   "execution_count": 56,
   "metadata": {},
   "outputs": [
    {
     "name": "stdout",
     "output_type": "stream",
     "text": [
      "2020-08-18 09:00:00 +19 clear sky\n",
      "2020-08-18 12:00:00 +20 clear sky\n",
      "2020-08-18 15:00:00 +20 clear sky\n",
      "2020-08-18 18:00:00 +18 clear sky\n",
      "2020-08-18 21:00:00 +16 few clouds\n",
      "2020-08-19 00:00:00 +16 clear sky\n",
      "2020-08-19 03:00:00 +16 clear sky\n",
      "2020-08-19 06:00:00 +19 clear sky\n",
      "2020-08-19 09:00:00 +21 few clouds\n",
      "2020-08-19 12:00:00 +21 clear sky\n",
      "2020-08-19 15:00:00 +20 clear sky\n",
      "2020-08-19 18:00:00 +17 clear sky\n",
      "2020-08-19 21:00:00 +16 clear sky\n",
      "2020-08-20 00:00:00 +16 clear sky\n",
      "2020-08-20 03:00:00 +15 clear sky\n",
      "2020-08-20 06:00:00 +18 clear sky\n",
      "2020-08-20 09:00:00 +20 clear sky\n",
      "2020-08-20 12:00:00 +21 clear sky\n",
      "2020-08-20 15:00:00 +20 broken clouds\n",
      "2020-08-20 18:00:00 +18 broken clouds\n",
      "2020-08-20 21:00:00 +18 overcast clouds\n",
      "2020-08-21 00:00:00 +17 broken clouds\n",
      "2020-08-21 03:00:00 +16 few clouds\n",
      "2020-08-21 06:00:00 +19 clear sky\n",
      "2020-08-21 09:00:00 +20 clear sky\n",
      "2020-08-21 12:00:00 +21 clear sky\n",
      "2020-08-21 15:00:00 +21 clear sky\n",
      "2020-08-21 18:00:00 +18 few clouds\n",
      "2020-08-21 21:00:00 +18 scattered clouds\n",
      "2020-08-22 00:00:00 +17 broken clouds\n",
      "2020-08-22 03:00:00 +18 light rain\n",
      "2020-08-22 06:00:00 +17 moderate rain\n",
      "2020-08-22 09:00:00 +18 moderate rain\n",
      "2020-08-22 12:00:00 +18 light rain\n",
      "2020-08-22 15:00:00 +19 light rain\n",
      "2020-08-22 18:00:00 +18 overcast clouds\n",
      "2020-08-22 21:00:00 +18 light rain\n",
      "2020-08-23 00:00:00 +18 light rain\n",
      "2020-08-23 03:00:00 +18 light rain\n",
      "2020-08-23 06:00:00 +18 moderate rain\n"
     ]
    }
   ],
   "source": [
    "# Weather forestcast for 5 days in Helsinki\n",
    "try:\n",
    "    res = requests.get(\"http://api.openweathermap.org/data/2.5/forecast\",\n",
    "                      params={'id': city_id, 'units': 'metric', 'lang': 'en', 'APPID': appid})\n",
    "    data = res.json()\n",
    "    for i in data['list']:\n",
    "        print( i['dt_txt'], '{0:+3.0f}'.format(i['main']['temp']), i['weather'][0]['description'] )\n",
    "except Exception as e:\n",
    "    print(\"Exception (forecast):\", e)\n",
    "    pass"
   ]
  },
  {
   "cell_type": "code",
   "execution_count": null,
   "metadata": {},
   "outputs": [],
   "source": []
  }
 ],
 "metadata": {
  "kernelspec": {
   "display_name": "Python 3",
   "language": "python",
   "name": "python3"
  },
  "language_info": {
   "codemirror_mode": {
    "name": "ipython",
    "version": 3
   },
   "file_extension": ".py",
   "mimetype": "text/x-python",
   "name": "python",
   "nbconvert_exporter": "python",
   "pygments_lexer": "ipython3",
   "version": "3.7.4"
  }
 },
 "nbformat": 4,
 "nbformat_minor": 4
}
